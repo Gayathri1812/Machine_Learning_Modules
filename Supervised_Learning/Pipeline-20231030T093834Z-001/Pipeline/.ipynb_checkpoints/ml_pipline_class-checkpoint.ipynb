{
 "cells": [
  {
   "cell_type": "code",
   "execution_count": 26,
   "metadata": {
    "executionInfo": {
     "elapsed": 493,
     "status": "ok",
     "timestamp": 1658200148552,
     "user": {
      "displayName": "Arun vignesh.m",
      "userId": "04802912337478825012"
     },
     "user_tz": -330
    },
    "id": "F7yeATi4WV8q"
   },
   "outputs": [],
   "source": [
    "# Loading libraries\n",
    "\n",
    "import pandas as pd\n",
    "import numpy as np\n",
    "\n",
    "from sklearn.datasets import load_iris\n",
    "from sklearn.model_selection import train_test_split\n",
    "from sklearn.preprocessing import StandardScaler\n",
    "from sklearn.decomposition import PCA\n",
    "from sklearn.pipeline import Pipeline\n",
    "from sklearn.linear_model import LogisticRegression\n",
    "from sklearn.tree import DecisionTreeClassifier\n",
    "from sklearn.ensemble import RandomForestClassifier\n"
   ]
  },
  {
   "cell_type": "code",
   "execution_count": 2,
   "metadata": {
    "executionInfo": {
     "elapsed": 915,
     "status": "ok",
     "timestamp": 1658199010052,
     "user": {
      "displayName": "Arun vignesh.m",
      "userId": "04802912337478825012"
     },
     "user_tz": -330
    },
    "id": "Se7DobjNXDWE"
   },
   "outputs": [],
   "source": [
    "iris = load_iris()"
   ]
  },
  {
   "cell_type": "code",
   "execution_count": 4,
   "metadata": {
    "colab": {
     "base_uri": "https://localhost:8080/"
    },
    "executionInfo": {
     "elapsed": 413,
     "status": "ok",
     "timestamp": 1658199022008,
     "user": {
      "displayName": "Arun vignesh.m",
      "userId": "04802912337478825012"
     },
     "user_tz": -330
    },
    "id": "nM5vTTDpXOKo",
    "outputId": "b312657a-3c72-42cc-aaa7-7df1967da285"
   },
   "outputs": [
    {
     "data": {
      "text/plain": [
       "dict_keys(['data', 'target', 'frame', 'target_names', 'DESCR', 'feature_names', 'filename', 'data_module'])"
      ]
     },
     "execution_count": 4,
     "metadata": {},
     "output_type": "execute_result"
    }
   ],
   "source": [
    "iris.keys()"
   ]
  },
  {
   "cell_type": "code",
   "execution_count": null,
   "metadata": {
    "id": "7X1qAfqOYhQr"
   },
   "outputs": [],
   "source": [
    "# Missing Value\n",
    "# Oultier Treatment\n",
    "# Encoding"
   ]
  },
  {
   "cell_type": "code",
   "execution_count": 5,
   "metadata": {
    "executionInfo": {
     "elapsed": 446,
     "status": "ok",
     "timestamp": 1658199063548,
     "user": {
      "displayName": "Arun vignesh.m",
      "userId": "04802912337478825012"
     },
     "user_tz": -330
    },
    "id": "cKYDxP2nXPgX"
   },
   "outputs": [],
   "source": [
    "X=iris.data\n",
    "y=iris.target"
   ]
  },
  {
   "cell_type": "code",
   "execution_count": 7,
   "metadata": {
    "executionInfo": {
     "elapsed": 14,
     "status": "ok",
     "timestamp": 1658199155102,
     "user": {
      "displayName": "Arun vignesh.m",
      "userId": "04802912337478825012"
     },
     "user_tz": -330
    },
    "id": "ix_ulJ9zXbZG"
   },
   "outputs": [],
   "source": [
    "X_train,X_test,y_train,y_test = train_test_split(X,y,test_size=0.3,random_state=10)"
   ]
  },
  {
   "cell_type": "code",
   "execution_count": 8,
   "metadata": {
    "executionInfo": {
     "elapsed": 395,
     "status": "ok",
     "timestamp": 1658199305934,
     "user": {
      "displayName": "Arun vignesh.m",
      "userId": "04802912337478825012"
     },
     "user_tz": -330
    },
    "id": "wyoUE_uCXfdz"
   },
   "outputs": [],
   "source": [
    "# Now we are going to create ML piplines\n",
    "# 1. Data preprocressing using Standard Scaler\n",
    "# 2. Redeuce Dimension using PCA\n",
    "# 3. Apply Classifier Algo"
   ]
  },
  {
   "cell_type": "code",
   "execution_count": 11,
   "metadata": {
    "executionInfo": {
     "elapsed": 5,
     "status": "ok",
     "timestamp": 1658199581253,
     "user": {
      "displayName": "Arun vignesh.m",
      "userId": "04802912337478825012"
     },
     "user_tz": -330
    },
    "id": "7fTnqGaeY-FJ"
   },
   "outputs": [],
   "source": [
    "scaler = StandardScaler()\n",
    "X_train_scaled = scaler.fit_transform(X_train)\n",
    "X_test_scaled = scaler.transform(X_test)"
   ]
  },
  {
   "cell_type": "code",
   "execution_count": 21,
   "metadata": {
    "executionInfo": {
     "elapsed": 18,
     "status": "ok",
     "timestamp": 1658199819959,
     "user": {
      "displayName": "Arun vignesh.m",
      "userId": "04802912337478825012"
     },
     "user_tz": -330
    },
    "id": "6McFTpGHYWlw"
   },
   "outputs": [],
   "source": [
    "pca = PCA(n_components=2)\n",
    "pca_scaled = pca.fit_transform(X_train_scaled)"
   ]
  },
  {
   "cell_type": "code",
   "execution_count": 24,
   "metadata": {
    "colab": {
     "base_uri": "https://localhost:8080/"
    },
    "executionInfo": {
     "elapsed": 380,
     "status": "ok",
     "timestamp": 1658199903919,
     "user": {
      "displayName": "Arun vignesh.m",
      "userId": "04802912337478825012"
     },
     "user_tz": -330
    },
    "id": "_ss3iJNPZTgQ",
    "outputId": "5d5f045b-0db4-4869-d922-fa94c4935536"
   },
   "outputs": [
    {
     "data": {
      "text/plain": [
       "RandomForestClassifier()"
      ]
     },
     "execution_count": 24,
     "metadata": {},
     "output_type": "execute_result"
    }
   ],
   "source": [
    "random_clf = RandomForestClassifier()\n",
    "random_clf.fit(pca_scaled,y_train)"
   ]
  },
  {
   "cell_type": "code",
   "execution_count": 25,
   "metadata": {
    "colab": {
     "base_uri": "https://localhost:8080/"
    },
    "executionInfo": {
     "elapsed": 381,
     "status": "ok",
     "timestamp": 1658199925137,
     "user": {
      "displayName": "Arun vignesh.m",
      "userId": "04802912337478825012"
     },
     "user_tz": -330
    },
    "id": "sEhE2PFDZyf5",
    "outputId": "a712c2e8-4671-4b15-dca9-fbd88b15b528"
   },
   "outputs": [
    {
     "data": {
      "text/plain": [
       "1.0"
      ]
     },
     "execution_count": 25,
     "metadata": {},
     "output_type": "execute_result"
    }
   ],
   "source": [
    "random_clf.score(pca_scaled,y_train)"
   ]
  },
  {
   "cell_type": "markdown",
   "metadata": {
    "id": "Ko0TvEoAcy9C"
   },
   "source": [
    "## Pipeline Method"
   ]
  },
  {
   "cell_type": "code",
   "execution_count": 28,
   "metadata": {
    "executionInfo": {
     "elapsed": 387,
     "status": "ok",
     "timestamp": 1658200335185,
     "user": {
      "displayName": "Arun vignesh.m",
      "userId": "04802912337478825012"
     },
     "user_tz": -330
    },
    "id": "vDr1f8FHatwg"
   },
   "outputs": [],
   "source": [
    "pipline_lr = Pipeline([('scaler1',StandardScaler()),\n",
    "                      ('pca1',PCA(n_components=2)),\n",
    "                      ('lr_clf',LogisticRegression())])\n",
    "\n",
    "pipline_dt = Pipeline([('scaler2',StandardScaler()),\n",
    "                      ('pca2',PCA(n_components=2)),\n",
    "                      ('dt_clf',DecisionTreeClassifier())])\n",
    "\n",
    "pipline_rf = Pipeline([('scaler3',StandardScaler()),\n",
    "                      ('pca3',PCA(n_components=2)),\n",
    "                      ('rf_clf',RandomForestClassifier())])"
   ]
  },
  {
   "cell_type": "code",
   "execution_count": 29,
   "metadata": {
    "executionInfo": {
     "elapsed": 632,
     "status": "ok",
     "timestamp": 1658200505522,
     "user": {
      "displayName": "Arun vignesh.m",
      "userId": "04802912337478825012"
     },
     "user_tz": -330
    },
    "id": "ZX5xU_occKqw"
   },
   "outputs": [],
   "source": [
    "pipelines=[pipline_lr,pipline_dt,pipline_rf]\n",
    "for pipe in pipelines:\n",
    "  pipe.fit(X_train,y_train)"
   ]
  },
  {
   "cell_type": "code",
   "execution_count": 35,
   "metadata": {
    "executionInfo": {
     "elapsed": 426,
     "status": "ok",
     "timestamp": 1658201483644,
     "user": {
      "displayName": "Arun vignesh.m",
      "userId": "04802912337478825012"
     },
     "user_tz": -330
    },
    "id": "L4iy7tLUgV5T"
   },
   "outputs": [],
   "source": [
    "pipe_dict = {0:'Logistic Regression',1:'Decision Tree',2:'Random Forest'}"
   ]
  },
  {
   "cell_type": "code",
   "execution_count": 38,
   "metadata": {
    "colab": {
     "base_uri": "https://localhost:8080/"
    },
    "executionInfo": {
     "elapsed": 572,
     "status": "ok",
     "timestamp": 1658201581753,
     "user": {
      "displayName": "Arun vignesh.m",
      "userId": "04802912337478825012"
     },
     "user_tz": -330
    },
    "id": "gCU02wSofeKo",
    "outputId": "65febe56-d486-4641-c1c7-12b3a87813b7"
   },
   "outputs": [
    {
     "name": "stdout",
     "output_type": "stream",
     "text": [
      " The test Accuracy for the Logistic Regression is 0.9333333333333333\n",
      " The test Accuracy for the Decision Tree is 0.9555555555555556\n",
      " The test Accuracy for the Random Forest is 0.9333333333333333\n"
     ]
    }
   ],
   "source": [
    "for i,model in enumerate(pipelines):\n",
    "  print(f\" The test Accuracy for the {pipe_dict[i]} is {model.score(X_test,y_test)}\")"
   ]
  },
  {
   "cell_type": "markdown",
   "metadata": {
    "id": "_10QPwb4jc5O"
   },
   "source": [
    "# Pipeline and Grid Search CV "
   ]
  },
  {
   "cell_type": "code",
   "execution_count": 41,
   "metadata": {
    "executionInfo": {
     "elapsed": 383,
     "status": "ok",
     "timestamp": 1658202465600,
     "user": {
      "displayName": "Arun vignesh.m",
      "userId": "04802912337478825012"
     },
     "user_tz": -330
    },
    "id": "zTIUhYOdfLkQ"
   },
   "outputs": [],
   "source": [
    "from sklearn.pipeline import make_pipeline\n",
    "from sklearn.model_selection import GridSearchCV"
   ]
  },
  {
   "cell_type": "code",
   "execution_count": 58,
   "metadata": {
    "executionInfo": {
     "elapsed": 390,
     "status": "ok",
     "timestamp": 1658203071177,
     "user": {
      "displayName": "Arun vignesh.m",
      "userId": "04802912337478825012"
     },
     "user_tz": -330
    },
    "id": "fGu7oEjEj1cd"
   },
   "outputs": [],
   "source": [
    "clf = make_pipeline(StandardScaler(),GridSearchCV(LogisticRegression(),param_grid={'solver':['liblinear'],'penalty':['l1','l2']},cv=10))\n"
   ]
  },
  {
   "cell_type": "code",
   "execution_count": 59,
   "metadata": {
    "colab": {
     "base_uri": "https://localhost:8080/"
    },
    "executionInfo": {
     "elapsed": 3,
     "status": "ok",
     "timestamp": 1658203072708,
     "user": {
      "displayName": "Arun vignesh.m",
      "userId": "04802912337478825012"
     },
     "user_tz": -330
    },
    "id": "enR2PpDtlVbI",
    "outputId": "d94407c0-7d5b-453a-874b-95161e4003b3"
   },
   "outputs": [
    {
     "data": {
      "text/plain": [
       "Pipeline(steps=[('standardscaler', StandardScaler()),\n",
       "                ('gridsearchcv',\n",
       "                 GridSearchCV(cv=10, estimator=LogisticRegression(),\n",
       "                              param_grid={'penalty': ['l1', 'l2'],\n",
       "                                          'solver': ['liblinear']}))])"
      ]
     },
     "execution_count": 59,
     "metadata": {},
     "output_type": "execute_result"
    }
   ],
   "source": [
    "clf.fit(X_train,y_train)"
   ]
  },
  {
   "cell_type": "code",
   "execution_count": 60,
   "metadata": {
    "colab": {
     "base_uri": "https://localhost:8080/"
    },
    "executionInfo": {
     "elapsed": 389,
     "status": "ok",
     "timestamp": 1658203078249,
     "user": {
      "displayName": "Arun vignesh.m",
      "userId": "04802912337478825012"
     },
     "user_tz": -330
    },
    "id": "29iOJsfWlfq_",
    "outputId": "ddbf7022-170b-419b-964c-a24ec15d4559"
   },
   "outputs": [
    {
     "data": {
      "text/plain": [
       "0.9333333333333333"
      ]
     },
     "execution_count": 60,
     "metadata": {},
     "output_type": "execute_result"
    }
   ],
   "source": [
    "clf.score(X_test,y_test)"
   ]
  },
  {
   "cell_type": "code",
   "execution_count": null,
   "metadata": {
    "id": "r6EGz7hxl1dp"
   },
   "outputs": [],
   "source": [
    "param_grid_list = {'lr_params':[{'penalty': ['l1', 'l2'],'solver': ['liblinear']}], 'dt_params':[{}],'rf_params':[{}]}"
   ]
  }
 ],
 "metadata": {
  "accelerator": "GPU",
  "colab": {
   "authorship_tag": "ABX9TyOl0XmwJCWt74wOJgL6ZD3l",
   "name": "ml_pipline_class.ipynb",
   "provenance": []
  },
  "gpuClass": "standard",
  "kernelspec": {
   "display_name": "Python 3 (ipykernel)",
   "language": "python",
   "name": "python3"
  },
  "language_info": {
   "codemirror_mode": {
    "name": "ipython",
    "version": 3
   },
   "file_extension": ".py",
   "mimetype": "text/x-python",
   "name": "python",
   "nbconvert_exporter": "python",
   "pygments_lexer": "ipython3",
   "version": "3.9.7"
  }
 },
 "nbformat": 4,
 "nbformat_minor": 1
}
