{
  "cells": [
    {
      "cell_type": "code",
      "execution_count": null,
      "metadata": {
        "id": "CXxQGzOCSoZ_"
      },
      "outputs": [],
      "source": [
        "\"\"\"\n",
        "# STRUCTURE OF TEST\n",
        "\n",
        "#DURATION -2hrs (7pm - 9pm, September 21, 2022)\n",
        "Submit by 9.15pm\n",
        "\n",
        "#Test will contain 3 sections. \n",
        "\n",
        "#Section 1 - Python syntax knowledge \n",
        "\n",
        "#Section 2 - Logical questions\n",
        "\n",
        "#Section 3 - Data viz \n",
        "\n",
        "#It would be ideal to split the first 1 hour on syntax and logical questions and next 1 hour on data visualization.\n",
        "\"\"\""
      ]
    },
    {
      "cell_type": "code",
      "execution_count": null,
      "metadata": {
        "id": "i6iVp2qxSswJ"
      },
      "outputs": [],
      "source": [
        "#SECTION 1"
      ]
    },
    {
      "cell_type": "code",
      "execution_count": 100,
      "metadata": {
        "id": "g3r5inztgS5W"
      },
      "outputs": [
        {
          "name": "stdout",
          "output_type": "stream",
          "text": [
            "3\n",
            "7\n",
            "11\n"
          ]
        }
      ],
      "source": [
        "\"\"\"\n",
        "Question 1.1 : From an array find the pair with the highest sum.\n",
        "\"\"\"\n",
        "#Solution\n",
        "import numpy as np\n",
        "a=np.array([(1,2),(3,4),(5,6)])\n",
        "for (i,j) in a:\n",
        "    sum=i+j\n",
        "print(sum)    \n",
        " "
      ]
    },
    {
      "cell_type": "code",
      "execution_count": 99,
      "metadata": {
        "id": "kjDAzJfHdPLn"
      },
      "outputs": [
        {
          "data": {
            "text/plain": [
              "'\\nQuestion 1.2 : Write a Python program to insert a new item before the third element in an existing array, using array package.\\n'"
            ]
          },
          "execution_count": 99,
          "metadata": {},
          "output_type": "execute_result"
        }
      ],
      "source": [
        "\"\"\"\n",
        "Question 1.2 : Write a Python program to insert a new item before the third element in an existing array, using array package.\n",
        "\"\"\"\n",
        "\n",
        "#Solution\n"
      ]
    },
    {
      "cell_type": "code",
      "execution_count": 119,
      "metadata": {
        "id": "BjgrEy1Oh5ge"
      },
      "outputs": [
        {
          "name": "stdout",
          "output_type": "stream",
          "text": [
            "python\n",
            "nohtyp\n"
          ]
        }
      ],
      "source": [
        "\"\"\"\n",
        "Question 1.3 : Write a code snippet to reverse a string and print both strings\n",
        "\"\"\"\n",
        "\n",
        "#Solution\n",
        "\n",
        "def reverse(a):\n",
        "    str=\"\"\n",
        "    for i in a:\n",
        "        str =i+ str\n",
        "    return str   \n",
        "a=\"python\"\n",
        "print(a)\n",
        "print(reverse(a))"
      ]
    },
    {
      "cell_type": "code",
      "execution_count": 85,
      "metadata": {
        "id": "CDM6njYziv2d"
      },
      "outputs": [
        {
          "data": {
            "text/plain": [
              "Date\n",
              "01/03/2022    5.0\n",
              "Name: Time taken, dtype: float64"
            ]
          },
          "execution_count": 85,
          "metadata": {},
          "output_type": "execute_result"
        }
      ],
      "source": [
        "\"\"\"\n",
        "Question 1.4 : \n",
        "##DATAFRAME QUESTION\n",
        "DATA : Employee worklog\n",
        "\n",
        "*Create dataframe from the dictionary\n",
        "\n",
        "1.4.1: Find the day on which the employee worked the most\n",
        "1.4.2: On which activity does the employee spend most of his/her time? How much?\n",
        "1.4.3: Find the average working hours of the employee\n",
        "\"\"\"\n",
        "Sample_data = {'Date': {0: '01/03/2022', 1: '01/03/2022', 2: '01/03/2022', 3: '01/03/2022', 4: '01/03/2022', 5: '02/03/2022', 6: '02/03/2022', 7: '02/03/2022', 8: '02/03/2022', 9: '03/03/2022', 10: '03/03/2022', 11: '03/03/2022', 12: '03/03/2022', 13: '03/03/2022', 14: '03/03/2022', 15: '03/03/2022', 16: '04/03/2022', 17: '04/03/2022', 18: '04/03/2022', 19: '04/03/2022', 20: '04/03/2022', 21: '07/03/2022', 22: '07/03/2022', 23: '07/03/2022', 24: '07/03/2022', 25: '07/03/2022', 26: '08/03/2022', 27: '08/03/2022', 28: '08/03/2022', 29: '08/03/2022', 30: '09/03/2022', 31: '09/03/2022', 32: '09/03/2022', 33: '09/03/2022', 34: '10/03/2022', 35: '10/03/2022', 36: '10/03/2022', 37: '10/03/2022'},\n",
        " 'Work': {0: 'activity 1', 1: 'activity 2', 2: 'activity 3', 3: 'activity 4', 4: 'activity 5', 5: 'activity 1', 6: 'activity 2', 7: 'activity 3', 8: 'activity 4', 9: 'activity 1', 10: 'activity 2', 11: 'activity 3', 12: 'activity 4', 13: 'activity 5', 14: 'activity 6', 15: 'activity 7', 16: 'activity 1', 17: 'activity 2', 18: 'activity 3', 19: 'activity 4', 20: 'activity 5', 21: 'activity 1', 22: 'activity 2', 23: 'activity 3', 24: 'activity 4', 25: 'activity 5', 26: 'activity 1', 27: 'activity 2', 28: 'activity 3', 29: 'activity 4', 30: 'activity 1', 31: 'activity 2', 32: 'activity 3', 33: 'activity 4', 34: 'activity 1', 35: 'activity 2', 36: 'activity 3', 37: 'activity 4'},\n",
        " 'Time taken': {0: 1.0, 1: 1.0, 2: 1.0, 3: 2.0, 4: 5.0, 5: 3.5, 6: 1.5, 7: 4.0, 8: 3.0, 9: 1.0, 10: 1.5, 11: 0.5, 12: 1.75, 13: 2.25, 14: 3.0, 15: 0.5, 16: 4.25, 17: 0.75, 18: 1.0, 19: 1.0, 20: 1.5, 21: 3.5, 22: 1.5, 23: 2.5, 24: 1.5, 25: 1.5, 26: 1.0, 27: 4.0, 28: 3.5, 29: 2.5, 30: 2.0, 31: 3.5, 32: 2.0, 33: 1.5, 34: 1.0, 35: 4.25, 36: 2.0, 37: 1.75}}\n",
        "\n",
        "\n",
        "import pandas as pd\n",
        "\n",
        "\n",
        "#Solution\n",
        "df=pd.DataFrame(Sample_data)\n",
        "#1.4.1\n",
        "df.groupby(\"Date\")[\"Time taken\"].max().head(1)\n",
        "\n"
      ]
    },
    {
      "cell_type": "code",
      "execution_count": null,
      "metadata": {},
      "outputs": [],
      "source": [
        "#1.4.2\n",
        "df.groupby(\"Work\")[\"Time taken\"].max().head(1)"
      ]
    },
    {
      "cell_type": "code",
      "execution_count": 87,
      "metadata": {},
      "outputs": [
        {
          "data": {
            "text/plain": [
              "2.1184210526315788"
            ]
          },
          "execution_count": 87,
          "metadata": {},
          "output_type": "execute_result"
        }
      ],
      "source": [
        "#1.4.3\n",
        "df[\"Time taken\"].mean()"
      ]
    },
    {
      "cell_type": "code",
      "execution_count": null,
      "metadata": {
        "id": "yuXW1h9mSvWJ"
      },
      "outputs": [],
      "source": [
        "#SECTION 2"
      ]
    },
    {
      "cell_type": "code",
      "execution_count": 30,
      "metadata": {
        "id": "RjhA2zJxTDQ9"
      },
      "outputs": [
        {
          "name": "stdout",
          "output_type": "stream",
          "text": [
            "* \n",
            "* * * \n",
            "* * * * * \n",
            "* * * * * * * \n",
            "* * * * * * * * * \n",
            "* * * * * * * * * * * \n",
            "* * * * * * * * * * * * * \n"
          ]
        }
      ],
      "source": [
        "\"\"\"\n",
        "Question 2.1 : Create the following pattern:\n",
        "\n",
        "        *\n",
        "       ***\n",
        "      *****\n",
        "     *******\n",
        "    *********\n",
        "   ***********\n",
        "  *************\n",
        "\n",
        "\n",
        "\"\"\"\n",
        "\n",
        "#Solution\n",
        "for i in range(1,15,2):\n",
        "  for j in range(1,1+i):\n",
        "    print('*',end=\" \")\n",
        "  print()\n",
        "\n"
      ]
    },
    {
      "cell_type": "code",
      "execution_count": 127,
      "metadata": {
        "id": "rgZo7Te4THZy"
      },
      "outputs": [
        {
          "ename": "TypeError",
          "evalue": "'numpy.int64' object is not callable",
          "output_type": "error",
          "traceback": [
            "\u001b[0;31m---------------------------------------------------------------------------\u001b[0m",
            "\u001b[0;31mTypeError\u001b[0m                                 Traceback (most recent call last)",
            "\u001b[0;32m/tmp/ipykernel_3813/3675793802.py\u001b[0m in \u001b[0;36m<module>\u001b[0;34m\u001b[0m\n\u001b[1;32m     16\u001b[0m \u001b[0mlst\u001b[0m\u001b[0;34m=\u001b[0m\u001b[0;34m[\u001b[0m\u001b[0;34m]\u001b[0m\u001b[0;34m\u001b[0m\u001b[0;34m\u001b[0m\u001b[0m\n\u001b[1;32m     17\u001b[0m \u001b[0;32mfor\u001b[0m \u001b[0mi\u001b[0m \u001b[0;32min\u001b[0m \u001b[0mlist1\u001b[0m\u001b[0;34m:\u001b[0m\u001b[0;34m\u001b[0m\u001b[0;34m\u001b[0m\u001b[0m\n\u001b[0;32m---> 18\u001b[0;31m     \u001b[0;32mif\u001b[0m \u001b[0;34m(\u001b[0m\u001b[0msum\u001b[0m\u001b[0;34m(\u001b[0m\u001b[0mlst\u001b[0m\u001b[0;34m)\u001b[0m\u001b[0;34m==\u001b[0m\u001b[0;36m350\u001b[0m\u001b[0;34m)\u001b[0m\u001b[0;34m:\u001b[0m\u001b[0;34m\u001b[0m\u001b[0;34m\u001b[0m\u001b[0m\n\u001b[0m\u001b[1;32m     19\u001b[0m         \u001b[0;32mbreak\u001b[0m\u001b[0;34m\u001b[0m\u001b[0;34m\u001b[0m\u001b[0m\n\u001b[1;32m     20\u001b[0m \u001b[0;34m\u001b[0m\u001b[0m\n",
            "\u001b[0;31mTypeError\u001b[0m: 'numpy.int64' object is not callable"
          ]
        }
      ],
      "source": [
        "\"\"\"\n",
        "Question 2.2 :\n",
        "From the list write a program to find all combinations which sum up to 350\n",
        "\"\"\"\n",
        "\n",
        "list1 = [51,43,157,122,17,71,120,136,95,190,160,20]\n",
        "\n",
        "\"\"\"\n",
        "example : One such combination is (122,120,71,20,17) and another one is (157,122,71). \n",
        "Find all such combinations using python. itertools library can used if required\n",
        "\"\"\"\n",
        "\n",
        "#Solution\n",
        "\n",
        "import numpy as np\n",
        "lst=[]\n",
        "for i in list1:\n",
        "    if (sum(lst)==350):\n",
        "        break\n",
        "     \n",
        "    else:\n",
        "        lst.extend(i)\n",
        "    print(lst)    "
      ]
    },
    {
      "cell_type": "code",
      "execution_count": null,
      "metadata": {
        "id": "Bt_Yl3gmTQk0"
      },
      "outputs": [],
      "source": [
        "\"\"\"\n",
        "Question 2.3\n",
        "Write a function which takes a number as argument and outputs:\n",
        "1. All divisible factors (as a list)\n",
        "2. Highest common factor\n",
        "3. Lowest common multiple\n",
        "\"\"\"\n",
        "#Solution\n"
      ]
    },
    {
      "cell_type": "code",
      "execution_count": 61,
      "metadata": {
        "id": "sL-BIASJTVdK"
      },
      "outputs": [
        {
          "name": "stdout",
          "output_type": "stream",
          "text": [
            "2 4 6 8 10 12 14 16 18 20 22 24 3 5 7 9 11 13 15 17 19 21 23 25 4 6 8 10 12 14 16 18 20 22 24 5 7 9 11 13 15 17 19 21 23 25 \n"
          ]
        }
      ],
      "source": [
        "\"\"\"\n",
        "Question 2.4\n",
        "Create a 5x5 array using loops whose value is the product of cell identity\n",
        "eg of 3X3 such array:\n",
        "[[1 2 3]\n",
        " [2 4 6]   \n",
        " [3 6 9]]\n",
        "\n",
        " ||-----> this is cell identity for 2X2 \n",
        " \n",
        " [[(1,1),(1,2)],\n",
        " [(2,1),(2,2)]]\n",
        "\n",
        "\"\"\"\n",
        "\n",
        "#Solution\n"
      ]
    },
    {
      "cell_type": "code",
      "execution_count": 66,
      "metadata": {
        "id": "iMAI337bTZ2h"
      },
      "outputs": [
        {
          "name": "stdout",
          "output_type": "stream",
          "text": [
            "num1= 20\n",
            "num2= 10\n"
          ]
        }
      ],
      "source": [
        "\"\"\"\n",
        "Question 2.5\n",
        "Swap the values of 2 variables without using a third variable.\n",
        "\"\"\"\n",
        "#Solution\n",
        "num1 = 10\n",
        "num2 =20\n",
        "num1,num2=num2,num1\n",
        "print(\"num1=\",num1)\n",
        "print(\"num2=\",num2)"
      ]
    },
    {
      "cell_type": "code",
      "execution_count": null,
      "metadata": {
        "id": "GrHsOTxOTfMd"
      },
      "outputs": [],
      "source": [
        "\"\"\"\n",
        "Question 2.6\n",
        "Write a function which takes in 3 arugemts:\n",
        "argument 1 - amount\n",
        "argument 2 - rate of interest (percentage)\n",
        "argument 3 - number of years\n",
        "Return value should be the compounded amount at the end of specified year\n",
        "\"\"\"\n",
        "\n",
        "#Solution\n"
      ]
    },
    {
      "cell_type": "code",
      "execution_count": null,
      "metadata": {
        "id": "AeqvoXD6TrXH"
      },
      "outputs": [],
      "source": [
        "#SECTION 3"
      ]
    },
    {
      "cell_type": "code",
      "execution_count": null,
      "metadata": {
        "id": "XHuegCt_m1SG"
      },
      "outputs": [],
      "source": [
        "\"\"\"\n",
        "QUESTION 3\n",
        "This section is visualization. Use any library of your choice.\n",
        "CSV file related to this question has been provided in the mail sent.\n",
        "\n",
        "TASKS TO BE DONE:\n",
        "\n",
        "1. Load the data as a dataframe.\n",
        "2. Analyze the data.\n",
        "3. Do the sanity check (data cleaning)\n",
        "4. Make plots and charts that makes sense of the data.\n",
        "5. Comment out the insights in a new cell.\n",
        "(Any library of your choice can be used.)\n",
        "\n",
        "datafile name : pf01_dataset.csv\n",
        "\"\"\"\n",
        "\n",
        "#Solution (You can add cells below)\n"
      ]
    },
    {
      "cell_type": "code",
      "execution_count": 32,
      "metadata": {
        "id": "hhRE-tyuYwiL"
      },
      "outputs": [],
      "source": [
        "data=pd.read_csv(\"/home/gayathri/AI_notes/Supervised_Learning/pf01_dataset.csv\")"
      ]
    },
    {
      "cell_type": "code",
      "execution_count": 33,
      "metadata": {},
      "outputs": [
        {
          "data": {
            "text/html": [
              "<div>\n",
              "<style scoped>\n",
              "    .dataframe tbody tr th:only-of-type {\n",
              "        vertical-align: middle;\n",
              "    }\n",
              "\n",
              "    .dataframe tbody tr th {\n",
              "        vertical-align: top;\n",
              "    }\n",
              "\n",
              "    .dataframe thead th {\n",
              "        text-align: right;\n",
              "    }\n",
              "</style>\n",
              "<table border=\"1\" class=\"dataframe\">\n",
              "  <thead>\n",
              "    <tr style=\"text-align: right;\">\n",
              "      <th></th>\n",
              "      <th>ID</th>\n",
              "      <th>Parent Company</th>\n",
              "      <th>Acquisition Year</th>\n",
              "      <th>Acquisition Month</th>\n",
              "      <th>Acquired Company</th>\n",
              "      <th>Business</th>\n",
              "      <th>Country</th>\n",
              "      <th>Acquisition Price</th>\n",
              "      <th>Category</th>\n",
              "      <th>Derived Products</th>\n",
              "    </tr>\n",
              "  </thead>\n",
              "  <tbody>\n",
              "    <tr>\n",
              "      <th>0</th>\n",
              "      <td>1</td>\n",
              "      <td>Apple</td>\n",
              "      <td>1988</td>\n",
              "      <td>Mar</td>\n",
              "      <td>Network Innovations</td>\n",
              "      <td>Software</td>\n",
              "      <td>-</td>\n",
              "      <td>-</td>\n",
              "      <td>-</td>\n",
              "      <td>-</td>\n",
              "    </tr>\n",
              "    <tr>\n",
              "      <th>1</th>\n",
              "      <td>2</td>\n",
              "      <td>Apple</td>\n",
              "      <td>1988</td>\n",
              "      <td>Jun</td>\n",
              "      <td>Orion Network Systems</td>\n",
              "      <td>Computer Software</td>\n",
              "      <td>-</td>\n",
              "      <td>-</td>\n",
              "      <td>-</td>\n",
              "      <td>-</td>\n",
              "    </tr>\n",
              "    <tr>\n",
              "      <th>2</th>\n",
              "      <td>3</td>\n",
              "      <td>Apple</td>\n",
              "      <td>1988</td>\n",
              "      <td>Jun</td>\n",
              "      <td>Styleware</td>\n",
              "      <td>Computer software</td>\n",
              "      <td>-</td>\n",
              "      <td>-</td>\n",
              "      <td>-</td>\n",
              "      <td>-</td>\n",
              "    </tr>\n",
              "    <tr>\n",
              "      <th>3</th>\n",
              "      <td>4</td>\n",
              "      <td>Apple</td>\n",
              "      <td>1988</td>\n",
              "      <td>Jul</td>\n",
              "      <td>Nashoba Systems</td>\n",
              "      <td>Computer software</td>\n",
              "      <td>-</td>\n",
              "      <td>-</td>\n",
              "      <td>-</td>\n",
              "      <td>-</td>\n",
              "    </tr>\n",
              "    <tr>\n",
              "      <th>4</th>\n",
              "      <td>5</td>\n",
              "      <td>Apple</td>\n",
              "      <td>1989</td>\n",
              "      <td>Jan</td>\n",
              "      <td>Coral Software</td>\n",
              "      <td>Computer software</td>\n",
              "      <td>-</td>\n",
              "      <td>-</td>\n",
              "      <td>-</td>\n",
              "      <td>-</td>\n",
              "    </tr>\n",
              "  </tbody>\n",
              "</table>\n",
              "</div>"
            ],
            "text/plain": [
              "   ID Parent Company Acquisition Year Acquisition Month  \\\n",
              "0   1          Apple             1988               Mar   \n",
              "1   2          Apple             1988               Jun   \n",
              "2   3          Apple             1988               Jun   \n",
              "3   4          Apple             1988               Jul   \n",
              "4   5          Apple             1989               Jan   \n",
              "\n",
              "        Acquired Company           Business Country Acquisition Price  \\\n",
              "0    Network Innovations           Software       -                 -   \n",
              "1  Orion Network Systems  Computer Software       -                 -   \n",
              "2              Styleware  Computer software       -                 -   \n",
              "3        Nashoba Systems  Computer software       -                 -   \n",
              "4         Coral Software  Computer software       -                 -   \n",
              "\n",
              "  Category Derived Products  \n",
              "0        -                -  \n",
              "1        -                -  \n",
              "2        -                -  \n",
              "3        -                -  \n",
              "4        -                -  "
            ]
          },
          "execution_count": 33,
          "metadata": {},
          "output_type": "execute_result"
        }
      ],
      "source": [
        "data.head()"
      ]
    },
    {
      "cell_type": "code",
      "execution_count": 34,
      "metadata": {},
      "outputs": [
        {
          "data": {
            "text/plain": [
              "(1455, 10)"
            ]
          },
          "execution_count": 34,
          "metadata": {},
          "output_type": "execute_result"
        }
      ],
      "source": [
        "data.shape"
      ]
    },
    {
      "cell_type": "code",
      "execution_count": 35,
      "metadata": {},
      "outputs": [
        {
          "data": {
            "text/plain": [
              "14550"
            ]
          },
          "execution_count": 35,
          "metadata": {},
          "output_type": "execute_result"
        }
      ],
      "source": [
        "data.size"
      ]
    },
    {
      "cell_type": "code",
      "execution_count": 43,
      "metadata": {},
      "outputs": [
        {
          "data": {
            "text/plain": [
              "ID                   0\n",
              "Parent Company       0\n",
              "Acquisition Year     0\n",
              "Acquisition Month    0\n",
              "Acquired Company     0\n",
              "Business             0\n",
              "Country              0\n",
              "Acquisition Price    0\n",
              "Category             0\n",
              "Derived Products     0\n",
              "dtype: int64"
            ]
          },
          "execution_count": 43,
          "metadata": {},
          "output_type": "execute_result"
        }
      ],
      "source": [
        "data.isnull().sum()"
      ]
    },
    {
      "cell_type": "code",
      "execution_count": 48,
      "metadata": {},
      "outputs": [
        {
          "data": {
            "text/plain": [
              "ID                    int64\n",
              "Parent Company       object\n",
              "Acquisition Year     object\n",
              "Acquisition Month    object\n",
              "Acquired Company     object\n",
              "Business             object\n",
              "Country              object\n",
              "Acquisition Price    object\n",
              "Category             object\n",
              "Derived Products     object\n",
              "dtype: object"
            ]
          },
          "execution_count": 48,
          "metadata": {},
          "output_type": "execute_result"
        }
      ],
      "source": [
        "data.dtypes"
      ]
    },
    {
      "cell_type": "code",
      "execution_count": 50,
      "metadata": {},
      "outputs": [
        {
          "data": {
            "text/html": [
              "<div>\n",
              "<style scoped>\n",
              "    .dataframe tbody tr th:only-of-type {\n",
              "        vertical-align: middle;\n",
              "    }\n",
              "\n",
              "    .dataframe tbody tr th {\n",
              "        vertical-align: top;\n",
              "    }\n",
              "\n",
              "    .dataframe thead th {\n",
              "        text-align: right;\n",
              "    }\n",
              "</style>\n",
              "<table border=\"1\" class=\"dataframe\">\n",
              "  <thead>\n",
              "    <tr style=\"text-align: right;\">\n",
              "      <th></th>\n",
              "      <th>ID</th>\n",
              "      <th>Parent Company</th>\n",
              "      <th>Acquisition Year</th>\n",
              "      <th>Acquisition Month</th>\n",
              "      <th>Acquired Company</th>\n",
              "      <th>Business</th>\n",
              "      <th>Country</th>\n",
              "      <th>Acquisition Price</th>\n",
              "      <th>Category</th>\n",
              "      <th>Derived Products</th>\n",
              "    </tr>\n",
              "  </thead>\n",
              "  <tbody>\n",
              "    <tr>\n",
              "      <th>0</th>\n",
              "      <td>1</td>\n",
              "      <td>Apple</td>\n",
              "      <td>1988</td>\n",
              "      <td>Mar</td>\n",
              "      <td>Network Innovations</td>\n",
              "      <td>Software</td>\n",
              "      <td>-</td>\n",
              "      <td>-</td>\n",
              "      <td>-</td>\n",
              "      <td>-</td>\n",
              "    </tr>\n",
              "    <tr>\n",
              "      <th>1</th>\n",
              "      <td>2</td>\n",
              "      <td>Apple</td>\n",
              "      <td>1988</td>\n",
              "      <td>Jun</td>\n",
              "      <td>Orion Network Systems</td>\n",
              "      <td>Computer Software</td>\n",
              "      <td>-</td>\n",
              "      <td>-</td>\n",
              "      <td>-</td>\n",
              "      <td>-</td>\n",
              "    </tr>\n",
              "    <tr>\n",
              "      <th>2</th>\n",
              "      <td>3</td>\n",
              "      <td>Apple</td>\n",
              "      <td>1988</td>\n",
              "      <td>Jun</td>\n",
              "      <td>Styleware</td>\n",
              "      <td>Computer software</td>\n",
              "      <td>-</td>\n",
              "      <td>-</td>\n",
              "      <td>-</td>\n",
              "      <td>-</td>\n",
              "    </tr>\n",
              "    <tr>\n",
              "      <th>3</th>\n",
              "      <td>4</td>\n",
              "      <td>Apple</td>\n",
              "      <td>1988</td>\n",
              "      <td>Jul</td>\n",
              "      <td>Nashoba Systems</td>\n",
              "      <td>Computer software</td>\n",
              "      <td>-</td>\n",
              "      <td>-</td>\n",
              "      <td>-</td>\n",
              "      <td>-</td>\n",
              "    </tr>\n",
              "    <tr>\n",
              "      <th>4</th>\n",
              "      <td>5</td>\n",
              "      <td>Apple</td>\n",
              "      <td>1989</td>\n",
              "      <td>Jan</td>\n",
              "      <td>Coral Software</td>\n",
              "      <td>Computer software</td>\n",
              "      <td>-</td>\n",
              "      <td>-</td>\n",
              "      <td>-</td>\n",
              "      <td>-</td>\n",
              "    </tr>\n",
              "    <tr>\n",
              "      <th>...</th>\n",
              "      <td>...</td>\n",
              "      <td>...</td>\n",
              "      <td>...</td>\n",
              "      <td>...</td>\n",
              "      <td>...</td>\n",
              "      <td>...</td>\n",
              "      <td>...</td>\n",
              "      <td>...</td>\n",
              "      <td>...</td>\n",
              "      <td>...</td>\n",
              "    </tr>\n",
              "    <tr>\n",
              "      <th>1450</th>\n",
              "      <td>1451</td>\n",
              "      <td>Citrix</td>\n",
              "      <td>2015</td>\n",
              "      <td>Apr</td>\n",
              "      <td>Grasshopper</td>\n",
              "      <td>Telephone services</td>\n",
              "      <td>United States</td>\n",
              "      <td>-</td>\n",
              "      <td>-</td>\n",
              "      <td>GoToMeeting, GoToTraining, GoToWebinar, ShareF...</td>\n",
              "    </tr>\n",
              "    <tr>\n",
              "      <th>1451</th>\n",
              "      <td>1452</td>\n",
              "      <td>Citrix</td>\n",
              "      <td>2016</td>\n",
              "      <td>Sep</td>\n",
              "      <td>Norskale</td>\n",
              "      <td>UEM and application performance optimization</td>\n",
              "      <td>France</td>\n",
              "      <td>-</td>\n",
              "      <td>-</td>\n",
              "      <td>XenApp, XenDesktop</td>\n",
              "    </tr>\n",
              "    <tr>\n",
              "      <th>1452</th>\n",
              "      <td>1453</td>\n",
              "      <td>Citrix</td>\n",
              "      <td>2017</td>\n",
              "      <td>Jan</td>\n",
              "      <td>Unidesk</td>\n",
              "      <td>-</td>\n",
              "      <td>United States</td>\n",
              "      <td>-</td>\n",
              "      <td>-</td>\n",
              "      <td>XenApp, XenDesktop</td>\n",
              "    </tr>\n",
              "    <tr>\n",
              "      <th>1453</th>\n",
              "      <td>1454</td>\n",
              "      <td>Citrix</td>\n",
              "      <td>2018</td>\n",
              "      <td>Feb</td>\n",
              "      <td>Cedexis</td>\n",
              "      <td>Intelligent traffic management</td>\n",
              "      <td>France</td>\n",
              "      <td>-</td>\n",
              "      <td>-</td>\n",
              "      <td>Citrix ITM</td>\n",
              "    </tr>\n",
              "    <tr>\n",
              "      <th>1454</th>\n",
              "      <td>1455</td>\n",
              "      <td>Citrix</td>\n",
              "      <td>2021</td>\n",
              "      <td>Mar</td>\n",
              "      <td>Wrike</td>\n",
              "      <td>Project management</td>\n",
              "      <td>United States</td>\n",
              "      <td>-</td>\n",
              "      <td>-</td>\n",
              "      <td>Citrix Workspace</td>\n",
              "    </tr>\n",
              "  </tbody>\n",
              "</table>\n",
              "<p>1455 rows × 10 columns</p>\n",
              "</div>"
            ],
            "text/plain": [
              "        ID Parent Company Acquisition Year Acquisition Month  \\\n",
              "0        1          Apple             1988               Mar   \n",
              "1        2          Apple             1988               Jun   \n",
              "2        3          Apple             1988               Jun   \n",
              "3        4          Apple             1988               Jul   \n",
              "4        5          Apple             1989               Jan   \n",
              "...    ...            ...              ...               ...   \n",
              "1450  1451         Citrix             2015               Apr   \n",
              "1451  1452         Citrix             2016               Sep   \n",
              "1452  1453         Citrix             2017               Jan   \n",
              "1453  1454         Citrix             2018               Feb   \n",
              "1454  1455         Citrix             2021               Mar   \n",
              "\n",
              "           Acquired Company                                      Business  \\\n",
              "0       Network Innovations                                      Software   \n",
              "1     Orion Network Systems                             Computer Software   \n",
              "2                 Styleware                             Computer software   \n",
              "3           Nashoba Systems                             Computer software   \n",
              "4            Coral Software                             Computer software   \n",
              "...                     ...                                           ...   \n",
              "1450            Grasshopper                            Telephone services   \n",
              "1451               Norskale  UEM and application performance optimization   \n",
              "1452                Unidesk                                             -   \n",
              "1453                Cedexis                Intelligent traffic management   \n",
              "1454                  Wrike                            Project management   \n",
              "\n",
              "            Country Acquisition Price Category  \\\n",
              "0                 -                 -        -   \n",
              "1                 -                 -        -   \n",
              "2                 -                 -        -   \n",
              "3                 -                 -        -   \n",
              "4                 -                 -        -   \n",
              "...             ...               ...      ...   \n",
              "1450  United States                 -        -   \n",
              "1451         France                 -        -   \n",
              "1452  United States                 -        -   \n",
              "1453         France                 -        -   \n",
              "1454  United States                 -        -   \n",
              "\n",
              "                                       Derived Products  \n",
              "0                                                     -  \n",
              "1                                                     -  \n",
              "2                                                     -  \n",
              "3                                                     -  \n",
              "4                                                     -  \n",
              "...                                                 ...  \n",
              "1450  GoToMeeting, GoToTraining, GoToWebinar, ShareF...  \n",
              "1451                                 XenApp, XenDesktop  \n",
              "1452                                 XenApp, XenDesktop  \n",
              "1453                                         Citrix ITM  \n",
              "1454                                   Citrix Workspace  \n",
              "\n",
              "[1455 rows x 10 columns]"
            ]
          },
          "execution_count": 50,
          "metadata": {},
          "output_type": "execute_result"
        }
      ],
      "source": [
        "df1=pd.DataFrame(data)\n",
        "df1"
      ]
    },
    {
      "cell_type": "code",
      "execution_count": 122,
      "metadata": {},
      "outputs": [],
      "source": [
        "from matplotlib import pyplot as plt\n",
        "%matplotlib inline\n",
        "import seaborn as sns"
      ]
    },
    {
      "cell_type": "code",
      "execution_count": 123,
      "metadata": {},
      "outputs": [
        {
          "data": {
            "text/plain": [
              "<seaborn.axisgrid.PairGrid at 0x7f02fcec4e80>"
            ]
          },
          "execution_count": 123,
          "metadata": {},
          "output_type": "execute_result"
        },
        {
          "data": {
            "image/png": "[encoded data removed]",
            "text/plain": [
              "<Figure size 180x180 with 2 Axes>"
            ]
          },
          "metadata": {
            "needs_background": "light"
          },
          "output_type": "display_data"
        }
      ],
      "source": [
        "sns.pairplot(df)"
      ]
    },
    {
      "cell_type": "code",
      "execution_count": 54,
      "metadata": {},
      "outputs": [
        {
          "name": "stderr",
          "output_type": "stream",
          "text": [
            "/home/gayathri/anaconda3/lib/python3.9/site-packages/seaborn/_decorators.py:36: FutureWarning: Pass the following variable as a keyword arg: x. From version 0.12, the only valid positional argument will be `data`, and passing other arguments without an explicit keyword will result in an error or misinterpretation.\n",
            "  warnings.warn(\n"
          ]
        },
        {
          "ename": "ValueError",
          "evalue": "Could not interpret input 'Business'",
          "output_type": "error",
          "traceback": [
            "\u001b[0;31m---------------------------------------------------------------------------\u001b[0m",
            "\u001b[0;31mValueError\u001b[0m                                Traceback (most recent call last)",
            "\u001b[0;32m/tmp/ipykernel_3813/3346345997.py\u001b[0m in \u001b[0;36m<module>\u001b[0;34m\u001b[0m\n\u001b[0;32m----> 1\u001b[0;31m \u001b[0msns\u001b[0m\u001b[0;34m.\u001b[0m\u001b[0mcountplot\u001b[0m\u001b[0;34m(\u001b[0m\u001b[0;34m\"Business\"\u001b[0m\u001b[0;34m,\u001b[0m\u001b[0mdata\u001b[0m\u001b[0;34m=\u001b[0m\u001b[0mdf\u001b[0m\u001b[0;34m)\u001b[0m\u001b[0;34m\u001b[0m\u001b[0;34m\u001b[0m\u001b[0m\n\u001b[0m",
            "\u001b[0;32m~/anaconda3/lib/python3.9/site-packages/seaborn/_decorators.py\u001b[0m in \u001b[0;36minner_f\u001b[0;34m(*args, **kwargs)\u001b[0m\n\u001b[1;32m     44\u001b[0m             )\n\u001b[1;32m     45\u001b[0m         \u001b[0mkwargs\u001b[0m\u001b[0;34m.\u001b[0m\u001b[0mupdate\u001b[0m\u001b[0;34m(\u001b[0m\u001b[0;34m{\u001b[0m\u001b[0mk\u001b[0m\u001b[0;34m:\u001b[0m \u001b[0marg\u001b[0m \u001b[0;32mfor\u001b[0m \u001b[0mk\u001b[0m\u001b[0;34m,\u001b[0m \u001b[0marg\u001b[0m \u001b[0;32min\u001b[0m \u001b[0mzip\u001b[0m\u001b[0;34m(\u001b[0m\u001b[0msig\u001b[0m\u001b[0;34m.\u001b[0m\u001b[0mparameters\u001b[0m\u001b[0;34m,\u001b[0m \u001b[0margs\u001b[0m\u001b[0;34m)\u001b[0m\u001b[0;34m}\u001b[0m\u001b[0;34m)\u001b[0m\u001b[0;34m\u001b[0m\u001b[0;34m\u001b[0m\u001b[0m\n\u001b[0;32m---> 46\u001b[0;31m         \u001b[0;32mreturn\u001b[0m \u001b[0mf\u001b[0m\u001b[0;34m(\u001b[0m\u001b[0;34m**\u001b[0m\u001b[0mkwargs\u001b[0m\u001b[0;34m)\u001b[0m\u001b[0;34m\u001b[0m\u001b[0;34m\u001b[0m\u001b[0m\n\u001b[0m\u001b[1;32m     47\u001b[0m     \u001b[0;32mreturn\u001b[0m \u001b[0minner_f\u001b[0m\u001b[0;34m\u001b[0m\u001b[0;34m\u001b[0m\u001b[0m\n\u001b[1;32m     48\u001b[0m \u001b[0;34m\u001b[0m\u001b[0m\n",
            "\u001b[0;32m~/anaconda3/lib/python3.9/site-packages/seaborn/categorical.py\u001b[0m in \u001b[0;36mcountplot\u001b[0;34m(x, y, hue, data, order, hue_order, orient, color, palette, saturation, dodge, ax, **kwargs)\u001b[0m\n\u001b[1;32m   3596\u001b[0m         \u001b[0;32mraise\u001b[0m \u001b[0mValueError\u001b[0m\u001b[0;34m(\u001b[0m\u001b[0;34m\"Cannot pass values for both `x` and `y`\"\u001b[0m\u001b[0;34m)\u001b[0m\u001b[0;34m\u001b[0m\u001b[0;34m\u001b[0m\u001b[0m\n\u001b[1;32m   3597\u001b[0m \u001b[0;34m\u001b[0m\u001b[0m\n\u001b[0;32m-> 3598\u001b[0;31m     plotter = _CountPlotter(\n\u001b[0m\u001b[1;32m   3599\u001b[0m         \u001b[0mx\u001b[0m\u001b[0;34m,\u001b[0m \u001b[0my\u001b[0m\u001b[0;34m,\u001b[0m \u001b[0mhue\u001b[0m\u001b[0;34m,\u001b[0m \u001b[0mdata\u001b[0m\u001b[0;34m,\u001b[0m \u001b[0morder\u001b[0m\u001b[0;34m,\u001b[0m \u001b[0mhue_order\u001b[0m\u001b[0;34m,\u001b[0m\u001b[0;34m\u001b[0m\u001b[0;34m\u001b[0m\u001b[0m\n\u001b[1;32m   3600\u001b[0m         \u001b[0mestimator\u001b[0m\u001b[0;34m,\u001b[0m \u001b[0mci\u001b[0m\u001b[0;34m,\u001b[0m \u001b[0mn_boot\u001b[0m\u001b[0;34m,\u001b[0m \u001b[0munits\u001b[0m\u001b[0;34m,\u001b[0m \u001b[0mseed\u001b[0m\u001b[0;34m,\u001b[0m\u001b[0;34m\u001b[0m\u001b[0;34m\u001b[0m\u001b[0m\n",
            "\u001b[0;32m~/anaconda3/lib/python3.9/site-packages/seaborn/categorical.py\u001b[0m in \u001b[0;36m__init__\u001b[0;34m(self, x, y, hue, data, order, hue_order, estimator, ci, n_boot, units, seed, orient, color, palette, saturation, errcolor, errwidth, capsize, dodge)\u001b[0m\n\u001b[1;32m   1582\u001b[0m                  errwidth, capsize, dodge):\n\u001b[1;32m   1583\u001b[0m         \u001b[0;34m\"\"\"Initialize the plotter.\"\"\"\u001b[0m\u001b[0;34m\u001b[0m\u001b[0;34m\u001b[0m\u001b[0m\n\u001b[0;32m-> 1584\u001b[0;31m         self.establish_variables(x, y, hue, data, orient,\n\u001b[0m\u001b[1;32m   1585\u001b[0m                                  order, hue_order, units)\n\u001b[1;32m   1586\u001b[0m         \u001b[0mself\u001b[0m\u001b[0;34m.\u001b[0m\u001b[0mestablish_colors\u001b[0m\u001b[0;34m(\u001b[0m\u001b[0mcolor\u001b[0m\u001b[0;34m,\u001b[0m \u001b[0mpalette\u001b[0m\u001b[0;34m,\u001b[0m \u001b[0msaturation\u001b[0m\u001b[0;34m)\u001b[0m\u001b[0;34m\u001b[0m\u001b[0;34m\u001b[0m\u001b[0m\n",
            "\u001b[0;32m~/anaconda3/lib/python3.9/site-packages/seaborn/categorical.py\u001b[0m in \u001b[0;36mestablish_variables\u001b[0;34m(self, x, y, hue, data, orient, order, hue_order, units)\u001b[0m\n\u001b[1;32m    151\u001b[0m                 \u001b[0;32mif\u001b[0m \u001b[0misinstance\u001b[0m\u001b[0;34m(\u001b[0m\u001b[0mvar\u001b[0m\u001b[0;34m,\u001b[0m \u001b[0mstr\u001b[0m\u001b[0;34m)\u001b[0m\u001b[0;34m:\u001b[0m\u001b[0;34m\u001b[0m\u001b[0;34m\u001b[0m\u001b[0m\n\u001b[1;32m    152\u001b[0m                     \u001b[0merr\u001b[0m \u001b[0;34m=\u001b[0m \u001b[0;34m\"Could not interpret input '{}'\"\u001b[0m\u001b[0;34m.\u001b[0m\u001b[0mformat\u001b[0m\u001b[0;34m(\u001b[0m\u001b[0mvar\u001b[0m\u001b[0;34m)\u001b[0m\u001b[0;34m\u001b[0m\u001b[0;34m\u001b[0m\u001b[0m\n\u001b[0;32m--> 153\u001b[0;31m                     \u001b[0;32mraise\u001b[0m \u001b[0mValueError\u001b[0m\u001b[0;34m(\u001b[0m\u001b[0merr\u001b[0m\u001b[0;34m)\u001b[0m\u001b[0;34m\u001b[0m\u001b[0;34m\u001b[0m\u001b[0m\n\u001b[0m\u001b[1;32m    154\u001b[0m \u001b[0;34m\u001b[0m\u001b[0m\n\u001b[1;32m    155\u001b[0m             \u001b[0;31m# Figure out the plotting orientation\u001b[0m\u001b[0;34m\u001b[0m\u001b[0;34m\u001b[0m\u001b[0m\n",
            "\u001b[0;31mValueError\u001b[0m: Could not interpret input 'Business'"
          ]
        }
      ],
      "source": [
        "sns.countplot(\"Business\",data=df)"
      ]
    },
    {
      "cell_type": "code",
      "execution_count": null,
      "metadata": {},
      "outputs": [],
      "source": []
    }
  ],
  "metadata": {
    "colab": {
      "collapsed_sections": [],
      "provenance": []
    },
    "kernelspec": {
      "display_name": "Python 3.9.7 ('base')",
      "language": "python",
      "name": "python3"
    },
    "language_info": {
      "codemirror_mode": {
        "name": "ipython",
        "version": 3
      },
      "file_extension": ".py",
      "mimetype": "text/x-python",
      "name": "python",
      "nbconvert_exporter": "python",
      "pygments_lexer": "ipython3",
      "version": "3.9.7"
    },
    "vscode": {
      "interpreter": {
        "hash": "7d04b39e6e67dd8ad29ff69da04e72748877b00ffaf82bb617874cdb725c0f4b"
      }
    }
  },
  "nbformat": 4,
  "nbformat_minor": 0
}
