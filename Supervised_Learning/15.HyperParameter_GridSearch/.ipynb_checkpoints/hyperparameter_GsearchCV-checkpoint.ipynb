{
 "cells": [
  {
   "cell_type": "code",
   "execution_count": 1,
   "metadata": {},
   "outputs": [],
   "source": [
    "# Loading all libraries\n",
    "\n",
    "import pandas as pd\n",
    "from matplotlib import pyplot as plt\n",
    "%matplotlib inline\n",
    "from sklearn.model_selection import train_test_split\n",
    "from sklearn.linear_model import LogisticRegression\n",
    "from sklearn.tree import DecisionTreeClassifier\n",
    "from sklearn.ensemble import RandomForestClassifier\n",
    "from sklearn.ensemble import AdaBoostClassifier\n",
    "from sklearn.ensemble import GradientBoostingClassifier\n",
    "from sklearn.svm import SVC\n",
    "from sklearn.metrics import accuracy_score\n",
    "from sklearn.model_selection import GridSearchCV"
   ]
  },
  {
   "cell_type": "code",
   "execution_count": 2,
   "metadata": {},
   "outputs": [],
   "source": [
    "data=pd.read_csv(\"/home/gayathri/AI_notes/Supervised_Learning/9_Logistic_Regression_Multiclass/breast_cancer_data.csv\")\n",
    "data.drop([\"id\",\"Unnamed: 32\"],axis=1,inplace=True)\n",
    "\n",
    "# map function for mapping benighn into 0  and malignant into 1\n",
    "data[\"diagnosis\"] = data[\"diagnosis\"].map({\"B\": 0,\"M\":1})\n",
    "\n",
    "X=data.drop([\"diagnosis\"],axis=1)\n",
    "y=data[\"diagnosis\"]\n",
    "\n",
    "X_train,X_test,y_train,y_test=train_test_split(X,y,test_size=0.33,random_state=42)"
   ]
  },
  {
   "cell_type": "code",
   "execution_count": 3,
   "metadata": {},
   "outputs": [
    {
     "data": {
      "text/plain": [
       "(381, 30)"
      ]
     },
     "execution_count": 3,
     "metadata": {},
     "output_type": "execute_result"
    }
   ],
   "source": [
    "X_train.shape"
   ]
  },
  {
   "cell_type": "code",
   "execution_count": 4,
   "metadata": {},
   "outputs": [],
   "source": [
    "# initiating grid searchCV() object and fitting it with hyperparameters\n",
    "\n",
    "log = LogisticRegression()\n",
    "rnd = RandomForestClassifier()\n",
    "adaboost = AdaBoostClassifier()\n",
    "gBoost = GradientBoostingClassifier()\n",
    "svm = SVC()\n",
    "\n",
    "\n",
    "# random forest \n",
    "forest_hyperparams = [{'n_estimators':[50,80,100,150,200,300,400,500],'criterion':['gini','entropy','log_loss'],'max_depth':list(range(10,15)),'max_features':list(range(5,20))}]\n",
    "\n",
    "grid_clf = GridSearchCV(rnd,forest_hyperparams,cv=10,scoring=\"accuracy\")\n",
    "\n",
    "grid_clf.fit(X_train,y_train)"
   ]
  },
  {
   "cell_type": "code",
   "execution_count": null,
   "metadata": {},
   "outputs": [],
   "source": [
    "# to get best parameter\n",
    "print(grid_clf.best_params_)"
   ]
  },
  {
   "cell_type": "code",
   "execution_count": null,
   "metadata": {},
   "outputs": [],
   "source": [
    "#to get best score\n",
    "print(grid_clf.best.score_)"
   ]
  },
  {
   "cell_type": "code",
   "execution_count": null,
   "metadata": {},
   "outputs": [],
   "source": []
  },
  {
   "cell_type": "code",
   "execution_count": null,
   "metadata": {},
   "outputs": [],
   "source": []
  },
  {
   "cell_type": "code",
   "execution_count": null,
   "metadata": {},
   "outputs": [],
   "source": []
  }
 ],
 "metadata": {
  "kernelspec": {
   "display_name": "Python 3 (ipykernel)",
   "language": "python",
   "name": "python3"
  },
  "language_info": {
   "codemirror_mode": {
    "name": "ipython",
    "version": 3
   },
   "file_extension": ".py",
   "mimetype": "text/x-python",
   "name": "python",
   "nbconvert_exporter": "python",
   "pygments_lexer": "ipython3",
   "version": "3.9.7"
  },
  "vscode": {
   "interpreter": {
    "hash": "7d04b39e6e67dd8ad29ff69da04e72748877b00ffaf82bb617874cdb725c0f4b"
   }
  }
 },
 "nbformat": 4,
 "nbformat_minor": 2
}
